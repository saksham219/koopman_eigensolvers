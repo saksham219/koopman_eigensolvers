{
 "cells": [
  {
   "cell_type": "code",
   "execution_count": 1,
   "id": "34c43c54",
   "metadata": {},
   "outputs": [],
   "source": [
    "%load_ext autoreload\n",
    "%autoreload 2"
   ]
  },
  {
   "cell_type": "code",
   "execution_count": 2,
   "id": "ab93c74d",
   "metadata": {},
   "outputs": [],
   "source": [
    "import numpy as np\n",
    "from koopmaneigen.matrix_eigsolver import MatrixEigSolver"
   ]
  },
  {
   "cell_type": "markdown",
   "id": "d8204d8d",
   "metadata": {},
   "source": [
    "dictionary basis = $\\{x, y , x^2, y^2, xy\\}$"
   ]
  },
  {
   "cell_type": "code",
   "execution_count": 3,
   "id": "f9bd54a2",
   "metadata": {},
   "outputs": [],
   "source": [
    "def normalize(v):\n",
    "    return v/np.linalg.norm(v)"
   ]
  },
  {
   "cell_type": "markdown",
   "id": "6c06ec02",
   "metadata": {},
   "source": [
    "taking linear system $x_{n+1} = Ax_n$ where A is \n",
    "$\\begin{bmatrix}\n",
    "    0.9 & 0.3 \\\\\n",
    "    0 & 0.6\n",
    "\\end{bmatrix}$\n",
    "\n",
    "koopman eigenfunctions will be $\\phi(x,y) = (x-y)$ with eigenvalue 0.9 and $\\phi(x,y) = y$ with eigenvalue 0.6"
   ]
  },
  {
   "cell_type": "markdown",
   "id": "a94018d2",
   "metadata": {},
   "source": [
    "### set up koopman matrix"
   ]
  },
  {
   "cell_type": "code",
   "execution_count": 4,
   "id": "647b842a",
   "metadata": {},
   "outputs": [],
   "source": [
    "lambda_1 = 0.9\n",
    "lambda_2 = 0.6"
   ]
  },
  {
   "cell_type": "code",
   "execution_count": 5,
   "id": "2851cbc1",
   "metadata": {},
   "outputs": [],
   "source": [
    "### representing eigenfunctions in dictionary sopace"
   ]
  },
  {
   "cell_type": "code",
   "execution_count": 6,
   "id": "8b266f54",
   "metadata": {},
   "outputs": [],
   "source": [
    "v_1 = [1,-1,0,0,0]; d_1 = lambda_1\n",
    "v_2 = [0,0,1,1,-2]; d_2 = (lambda_1)**2\n",
    "v_3 = [0,1,0,0,0]; d_3 = lambda_2\n",
    "v_4 = [0,0,0,-1,1]; d_4 = lambda_1 * lambda_2\n",
    "v_5 = [0,0,0,1,0]; d_5 = (lambda_2)**2"
   ]
  },
  {
   "cell_type": "code",
   "execution_count": 7,
   "id": "0896fdf6",
   "metadata": {},
   "outputs": [
    {
     "name": "stdout",
     "output_type": "stream",
     "text": [
      "[[ 0.70710678  0.          0.          0.          0.        ]\n",
      " [-0.70710678  0.          1.          0.          0.        ]\n",
      " [ 0.          0.40824829  0.          0.          0.        ]\n",
      " [ 0.          0.40824829  0.         -0.70710678  1.        ]\n",
      " [ 0.         -0.81649658  0.          0.70710678  0.        ]]\n"
     ]
    }
   ],
   "source": [
    "V = np.array([normalize(v) for v in [v_1,v_2, v_3, v_4, v_5]]).T\n",
    "print(V)"
   ]
  },
  {
   "cell_type": "code",
   "execution_count": 8,
   "id": "038ca234",
   "metadata": {},
   "outputs": [
    {
     "data": {
      "text/plain": [
       "6.288429268634205"
      ]
     },
     "execution_count": 8,
     "metadata": {},
     "output_type": "execute_result"
    }
   ],
   "source": [
    "np.linalg.cond(V)"
   ]
  },
  {
   "cell_type": "code",
   "execution_count": 9,
   "id": "017d3e3e",
   "metadata": {},
   "outputs": [
    {
     "name": "stdout",
     "output_type": "stream",
     "text": [
      "[[0.9  0.   0.   0.   0.  ]\n",
      " [0.   0.81 0.   0.   0.  ]\n",
      " [0.   0.   0.6  0.   0.  ]\n",
      " [0.   0.   0.   0.54 0.  ]\n",
      " [0.   0.   0.   0.   0.36]]\n"
     ]
    }
   ],
   "source": [
    "D = np.diag([d_1, d_2, d_3, d_4, d_5])\n",
    "print(D)"
   ]
  },
  {
   "cell_type": "code",
   "execution_count": 10,
   "id": "453d58cb",
   "metadata": {},
   "outputs": [
    {
     "data": {
      "text/plain": [
       "array([[ 1.41421356,  0.        ,  0.        ,  0.        ,  0.        ],\n",
       "       [-0.        , -0.        ,  2.44948974, -0.        , -0.        ],\n",
       "       [ 1.        ,  1.        ,  0.        ,  0.        ,  0.        ],\n",
       "       [-0.        , -0.        ,  2.82842712, -0.        ,  1.41421356],\n",
       "       [ 0.        ,  0.        ,  1.        ,  1.        ,  1.        ]])"
      ]
     },
     "execution_count": 10,
     "metadata": {},
     "output_type": "execute_result"
    }
   ],
   "source": [
    "np.linalg.inv(V)"
   ]
  },
  {
   "cell_type": "code",
   "execution_count": 11,
   "id": "eb3e6e3d",
   "metadata": {
    "scrolled": true
   },
   "outputs": [
    {
     "name": "stdout",
     "output_type": "stream",
     "text": [
      "[[ 0.9   0.    0.    0.    0.  ]\n",
      " [-0.3   0.6   0.    0.    0.  ]\n",
      " [ 0.    0.    0.81  0.    0.  ]\n",
      " [ 0.    0.    0.09  0.36 -0.18]\n",
      " [ 0.    0.   -0.54  0.    0.54]]\n"
     ]
    }
   ],
   "source": [
    "# get transpose of koopman matrix\n",
    "K_transpose = V @ D @ np.linalg.inv(V)\n",
    "print(K_transpose)"
   ]
  },
  {
   "cell_type": "code",
   "execution_count": 12,
   "id": "f7e5b16d",
   "metadata": {},
   "outputs": [],
   "source": [
    "### looks like a tridiagonal matrix?"
   ]
  },
  {
   "cell_type": "code",
   "execution_count": 13,
   "id": "6eb91f91",
   "metadata": {},
   "outputs": [],
   "source": [
    "eigsolver = MatrixEigSolver(K_transpose)"
   ]
  },
  {
   "cell_type": "markdown",
   "id": "9520bc79",
   "metadata": {},
   "source": [
    "### Power method on K_transpose"
   ]
  },
  {
   "cell_type": "code",
   "execution_count": 17,
   "id": "c033ee6e",
   "metadata": {},
   "outputs": [
    {
     "name": "stdout",
     "output_type": "stream",
     "text": [
      "[ 7.07106781e-01 -7.07106781e-01  8.25690676e-06  8.25690676e-06\n",
      " -1.65138135e-05]\n",
      "0.8999999999631847\n"
     ]
    }
   ],
   "source": [
    "eigvec, eigvalue = eigsolver.power_iteration(K_transpose)\n",
    "print(eigvec)\n",
    "print(eigvalue)\n"
   ]
  },
  {
   "cell_type": "markdown",
   "id": "cf8be116",
   "metadata": {},
   "source": [
    "first eigenvector is calculated correctly by power iteration"
   ]
  },
  {
   "cell_type": "markdown",
   "id": "a4bcab06",
   "metadata": {},
   "source": [
    "### try assymetric power deflation algorithm"
   ]
  },
  {
   "cell_type": "code",
   "execution_count": 18,
   "id": "d1805100",
   "metadata": {},
   "outputs": [
    {
     "name": "stdout",
     "output_type": "stream",
     "text": [
      "eigenvalue:  0.9\n",
      "eigenvalue error: -3.521e-10\n",
      "eigenvector norm error: 6.254e-05\n",
      "--------\n",
      "eigenvalue:  0.81\n",
      "eigenvalue error: -8.739e-11\n",
      "eigenvector norm error: 4.247e-05\n",
      "--------\n",
      "eigenvalue:  0.6\n",
      "eigenvalue error: -3.513e-10\n",
      "eigenvector norm error: 7.563e-05\n",
      "--------\n",
      "eigenvalue:  0.54\n",
      "eigenvalue error: 3.824e-10\n",
      "eigenvector norm error: 4.052e-05\n",
      "--------\n",
      "eigenvalue:  0.36\n",
      "eigenvalue error: 0.0\n",
      "eigenvector norm error: 2.752e-09\n",
      "--------\n"
     ]
    }
   ],
   "source": [
    "eigs = eigsolver.power_iteration_with_deflation_asymm(num_eigen=5, num_iterations = 100000, tolerance=1e-10) \n",
    "with np.printoptions(precision=4, suppress=True):\n",
    "    for i, (eigvec,eigvalue) in enumerate(eigs):\n",
    "        print(f\"eigenvalue: {eigvalue: .4}\")\n",
    "        print(f\"eigenvalue error: {eigvalue - D[i,i]:.4}\")\n",
    "        eigvec = eigvec.reshape(eigvec.shape[0])\n",
    "        print(f\"eigenvector norm error: {np.linalg.norm(eigvec - V[:,i]):.4}\")\n",
    "        print(\"--------\")"
   ]
  }
 ],
 "metadata": {
  "kernelspec": {
   "display_name": "Python 3 (ipykernel)",
   "language": "python",
   "name": "python3"
  },
  "language_info": {
   "codemirror_mode": {
    "name": "ipython",
    "version": 3
   },
   "file_extension": ".py",
   "mimetype": "text/x-python",
   "name": "python",
   "nbconvert_exporter": "python",
   "pygments_lexer": "ipython3",
   "version": "3.8.16"
  },
  "toc": {
   "base_numbering": 1,
   "nav_menu": {},
   "number_sections": true,
   "sideBar": true,
   "skip_h1_title": false,
   "title_cell": "Table of Contents",
   "title_sidebar": "Contents",
   "toc_cell": false,
   "toc_position": {},
   "toc_section_display": true,
   "toc_window_display": false
  }
 },
 "nbformat": 4,
 "nbformat_minor": 5
}
