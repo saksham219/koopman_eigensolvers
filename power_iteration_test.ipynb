{
 "cells": [
  {
   "cell_type": "code",
   "execution_count": 1,
   "id": "34c43c54",
   "metadata": {},
   "outputs": [],
   "source": [
    "%load_ext autoreload\n",
    "%autoreload 2"
   ]
  },
  {
   "cell_type": "code",
   "execution_count": 2,
   "id": "ab93c74d",
   "metadata": {},
   "outputs": [],
   "source": [
    "import numpy as np\n",
    "from koopmaneigen.matrix_eigsolver import MatrixEigSolver"
   ]
  },
  {
   "cell_type": "markdown",
   "id": "ab93e576",
   "metadata": {},
   "source": [
    "dictionary basis = $\\{x, y , x^2, y^2, xy\\}$"
   ]
  },
  {
   "cell_type": "code",
   "execution_count": 3,
   "id": "f9bd54a2",
   "metadata": {},
   "outputs": [],
   "source": [
    "def normalize(v):\n",
    "    return v/np.linalg.norm(v)"
   ]
  },
  {
   "cell_type": "markdown",
   "id": "81f543c4",
   "metadata": {},
   "source": [
    "taking linear system $x_{n+1} = Ax_n$ where A is \n",
    "$\\begin{bmatrix}\n",
    "    0.9 & 0.3 \\\\\n",
    "    0 & 0.6\n",
    "\\end{bmatrix}$\n",
    "\n",
    "koopman eigenfunctions will be $\\phi(x,y) = (x-y)$ with eigenvalue 0.9 and $\\phi(x,y) = y$ with eigenvalue 0.6"
   ]
  },
  {
   "cell_type": "markdown",
   "id": "7db6e50b",
   "metadata": {},
   "source": [
    "### set up koopman matrix"
   ]
  },
  {
   "cell_type": "code",
   "execution_count": 220,
   "id": "a201f038",
   "metadata": {},
   "outputs": [],
   "source": [
    "lambda_1 = 0.9\n",
    "lambda_2 = 0.6"
   ]
  },
  {
   "cell_type": "code",
   "execution_count": 221,
   "id": "5cef61aa",
   "metadata": {},
   "outputs": [],
   "source": [
    "### representing eigenfunctions in dictionary sopace"
   ]
  },
  {
   "cell_type": "code",
   "execution_count": 666,
   "id": "8b266f54",
   "metadata": {},
   "outputs": [],
   "source": [
    "v_1 = [1,-1,0,0,0]; d_1 = lambda_1\n",
    "v_2 = [0,0,1,1,-2]; d_2 = (lambda_1)**2\n",
    "v_3 = [0,1,0,0,0]; d_3 = lambda_2\n",
    "v_4 = [0,0,0,-1,1]; d_4 = lambda_1 * lambda_2\n",
    "v_5 = [0,0,0,1,0]; d_5 = (lambda_2)**2"
   ]
  },
  {
   "cell_type": "code",
   "execution_count": 667,
   "id": "0896fdf6",
   "metadata": {
    "scrolled": true
   },
   "outputs": [
    {
     "name": "stdout",
     "output_type": "stream",
     "text": [
      "[[ 0.70710678  0.          0.          0.          0.        ]\n",
      " [-0.70710678  0.          1.          0.          0.        ]\n",
      " [ 0.          0.40824829  0.          0.          0.        ]\n",
      " [ 0.          0.40824829  0.         -0.70710678  1.        ]\n",
      " [ 0.         -0.81649658  0.          0.70710678  0.        ]]\n"
     ]
    }
   ],
   "source": [
    "V = np.array([normalize(v) for v in [v_1,v_2, v_3, v_4, v_5]]).T\n",
    "print(V)"
   ]
  },
  {
   "cell_type": "code",
   "execution_count": 224,
   "id": "038ca234",
   "metadata": {},
   "outputs": [
    {
     "data": {
      "text/plain": [
       "6.288429268634205"
      ]
     },
     "execution_count": 224,
     "metadata": {},
     "output_type": "execute_result"
    }
   ],
   "source": [
    "np.linalg.cond(V)"
   ]
  },
  {
   "cell_type": "code",
   "execution_count": 225,
   "id": "017d3e3e",
   "metadata": {},
   "outputs": [
    {
     "name": "stdout",
     "output_type": "stream",
     "text": [
      "[[0.9  0.   0.   0.   0.  ]\n",
      " [0.   0.81 0.   0.   0.  ]\n",
      " [0.   0.   0.6  0.   0.  ]\n",
      " [0.   0.   0.   0.54 0.  ]\n",
      " [0.   0.   0.   0.   0.36]]\n"
     ]
    }
   ],
   "source": [
    "D = np.diag([d_1, d_2, d_3, d_4, d_5])\n",
    "print(D)"
   ]
  },
  {
   "cell_type": "code",
   "execution_count": 226,
   "id": "453d58cb",
   "metadata": {},
   "outputs": [
    {
     "data": {
      "text/plain": [
       "array([[ 1.41421356,  0.        ,  0.        ,  0.        ,  0.        ],\n",
       "       [-0.        , -0.        ,  2.44948974, -0.        , -0.        ],\n",
       "       [ 1.        ,  1.        ,  0.        ,  0.        ,  0.        ],\n",
       "       [-0.        , -0.        ,  2.82842712, -0.        ,  1.41421356],\n",
       "       [ 0.        ,  0.        ,  1.        ,  1.        ,  1.        ]])"
      ]
     },
     "execution_count": 226,
     "metadata": {},
     "output_type": "execute_result"
    }
   ],
   "source": [
    "np.linalg.inv(V)"
   ]
  },
  {
   "cell_type": "code",
   "execution_count": 227,
   "id": "57e9858c",
   "metadata": {},
   "outputs": [],
   "source": [
    "# use pseudo inversion with regularization for inversion as it is more stable"
   ]
  },
  {
   "cell_type": "code",
   "execution_count": 228,
   "id": "88bd42c0",
   "metadata": {},
   "outputs": [
    {
     "data": {
      "text/plain": [
       "array([[ 1.41421356e+00,  2.23711432e-17,  0.00000000e+00,\n",
       "         0.00000000e+00,  0.00000000e+00],\n",
       "       [ 0.00000000e+00,  0.00000000e+00,  2.44948974e+00,\n",
       "        -1.97479288e-16,  4.49130194e-16],\n",
       "       [ 1.00000000e+00,  1.00000000e+00,  0.00000000e+00,\n",
       "         0.00000000e+00,  0.00000000e+00],\n",
       "       [ 0.00000000e+00,  0.00000000e+00,  2.82842712e+00,\n",
       "         1.71222890e-16,  1.41421356e+00],\n",
       "       [ 0.00000000e+00,  0.00000000e+00,  1.00000000e+00,\n",
       "         1.00000000e+00,  1.00000000e+00]])"
      ]
     },
     "execution_count": 228,
     "metadata": {},
     "output_type": "execute_result"
    }
   ],
   "source": [
    "np.linalg.pinv(V, rcond=1e-8)"
   ]
  },
  {
   "cell_type": "code",
   "execution_count": 229,
   "id": "eb3e6e3d",
   "metadata": {
    "scrolled": false
   },
   "outputs": [
    {
     "name": "stdout",
     "output_type": "stream",
     "text": [
      "[[ 9.00000000e-01  1.42369083e-17  0.00000000e+00  0.00000000e+00\n",
      "   0.00000000e+00]\n",
      " [-3.00000000e-01  6.00000000e-01  0.00000000e+00  0.00000000e+00\n",
      "   0.00000000e+00]\n",
      " [ 0.00000000e+00  0.00000000e+00  8.10000000e-01 -6.53026712e-17\n",
      "   1.48518873e-16]\n",
      " [ 0.00000000e+00  0.00000000e+00  9.00000000e-02  3.60000000e-01\n",
      "  -1.80000000e-01]\n",
      " [ 0.00000000e+00  0.00000000e+00 -5.40000000e-01  1.95984690e-16\n",
      "   5.40000000e-01]]\n"
     ]
    }
   ],
   "source": [
    "# get transpose of koopman matrix\n",
    "K_transpose = V @ D @ np.linalg.pinv(V, rcond=1e-8)\n",
    "print(K_transpose)"
   ]
  },
  {
   "cell_type": "code",
   "execution_count": 230,
   "id": "f7e5b16d",
   "metadata": {},
   "outputs": [],
   "source": [
    "### looks like a tridiagonal matrix?"
   ]
  },
  {
   "cell_type": "code",
   "execution_count": 231,
   "id": "6eb91f91",
   "metadata": {},
   "outputs": [],
   "source": [
    "eigsolver = MatrixEigSolver(K_transpose)"
   ]
  },
  {
   "cell_type": "markdown",
   "id": "9520bc79",
   "metadata": {},
   "source": [
    "### Power method on K_transpose"
   ]
  },
  {
   "cell_type": "code",
   "execution_count": 232,
   "id": "c033ee6e",
   "metadata": {},
   "outputs": [
    {
     "name": "stdout",
     "output_type": "stream",
     "text": [
      "[ 7.07106781e-01 -7.07106781e-01  8.10946011e-06  8.10946011e-06\n",
      " -1.62189202e-05]\n",
      "0.8999999999644875\n"
     ]
    }
   ],
   "source": [
    "eigvec, eigvalue = eigsolver.power_iteration(K_transpose)\n",
    "print(eigvec)\n",
    "print(eigvalue)\n"
   ]
  },
  {
   "cell_type": "markdown",
   "id": "1b721e2d",
   "metadata": {},
   "source": [
    "first eigenvector is calculated correctly by power iteration"
   ]
  },
  {
   "cell_type": "markdown",
   "id": "dff8900d",
   "metadata": {},
   "source": [
    "### try assymetric power deflation algorithm"
   ]
  },
  {
   "cell_type": "code",
   "execution_count": 233,
   "id": "d1805100",
   "metadata": {
    "scrolled": true
   },
   "outputs": [
    {
     "name": "stdout",
     "output_type": "stream",
     "text": [
      "eigenvalue:  0.9\n",
      "eigenvalue error: -4.023e-10\n",
      "eigenvector norm error: 6.686e-05\n",
      "--------\n",
      "eigenvalue:  0.81\n",
      "eigenvalue error: 4.422e-10\n",
      "eigenvector norm error: 4.176e-05\n",
      "--------\n",
      "eigenvalue:  0.6\n",
      "eigenvalue error: -3.784e-10\n",
      "eigenvector norm error: 7.771e-05\n",
      "--------\n",
      "eigenvalue:  0.54\n",
      "eigenvalue error: 3.443e-10\n",
      "eigenvector norm error: 4.055e-05\n",
      "--------\n",
      "eigenvalue:  0.36\n",
      "eigenvalue error: -5.551e-17\n",
      "eigenvector norm error: 2.523e-09\n",
      "--------\n"
     ]
    }
   ],
   "source": [
    "eigs = eigsolver.power_iteration_with_deflation_asymm(num_eigen=5, num_iterations = 100000, tolerance=1e-10) \n",
    "with np.printoptions(precision=4, suppress=True):\n",
    "    for i, (eigvec,eigvalue) in enumerate(eigs):\n",
    "        print(f\"eigenvalue: {eigvalue: .4}\")\n",
    "        print(f\"eigenvalue error: {eigvalue - D[i,i]:.4}\")\n",
    "        eigvec = eigvec.reshape(eigvec.shape[0])\n",
    "        print(f\"eigenvector norm error: {np.linalg.norm(eigvec - V[:,i]):.4}\")\n",
    "        print(\"--------\")"
   ]
  },
  {
   "cell_type": "markdown",
   "id": "a4a0995a",
   "metadata": {},
   "source": [
    "### complex eigenvalues"
   ]
  },
  {
   "cell_type": "code",
   "execution_count": 545,
   "id": "5f26761b",
   "metadata": {},
   "outputs": [],
   "source": [
    "lambda_1 = 0.9 + 0.2j\n",
    "lambda_2 = 0.9 - 0.2j\n",
    "lambda_3 = 0.6 + 0.1j\n",
    "lambda_4 = 0.6 - 0.1j\n",
    "lambda_5 = 0.3"
   ]
  },
  {
   "cell_type": "code",
   "execution_count": 546,
   "id": "68283430",
   "metadata": {},
   "outputs": [],
   "source": [
    "v_1 = [1+2j, 1 + 1j, 0, 0, 1 + 1j]; v_1 = normalize(v_1)\n",
    "v_2 = np.conjugate(v_1);\n",
    "v_3 = [0, 1 + 1j, 1, 3-2j, 0]; v_3 = normalize(v_3)\n",
    "v_4 = np.conjugate(v_3)\n",
    "v_5 = [1, 0 ,0, 0, 1]"
   ]
  },
  {
   "cell_type": "code",
   "execution_count": 547,
   "id": "15a424cb",
   "metadata": {
    "scrolled": true
   },
   "outputs": [
    {
     "name": "stdout",
     "output_type": "stream",
     "text": [
      "[[0.33333333+0.66666667j 0.33333333-0.66666667j 0.        +0.j\n",
      "  0.        -0.j         0.70710678+0.j        ]\n",
      " [0.33333333+0.33333333j 0.33333333-0.33333333j 0.25      +0.25j\n",
      "  0.25      -0.25j       0.        +0.j        ]\n",
      " [0.        +0.j         0.        -0.j         0.25      +0.j\n",
      "  0.25      -0.j         0.        +0.j        ]\n",
      " [0.        +0.j         0.        -0.j         0.75      -0.5j\n",
      "  0.75      +0.5j        0.        +0.j        ]\n",
      " [0.33333333+0.33333333j 0.33333333-0.33333333j 0.        +0.j\n",
      "  0.        -0.j         0.70710678+0.j        ]]\n"
     ]
    }
   ],
   "source": [
    "V = np.array([normalize(v) for v in [v_1,v_2, v_3, v_4, v_5]]).T\n",
    "print(V)"
   ]
  },
  {
   "cell_type": "markdown",
   "id": "9f370942",
   "metadata": {},
   "source": [
    "#### create a complex matrix using blocks"
   ]
  },
  {
   "cell_type": "code",
   "execution_count": 549,
   "id": "3f80be10",
   "metadata": {},
   "outputs": [
    {
     "data": {
      "text/plain": [
       "(array([[ 0.33333333,  0.66666667,  0.        ,  0.        ,  1.        ],\n",
       "        [ 0.33333333,  0.33333333,  0.25      ,  0.25      ,  0.        ],\n",
       "        [ 0.        ,  0.        ,  0.25      ,  0.        ,  0.        ],\n",
       "        [ 0.        ,  0.        ,  0.75      , -0.5       ,  0.        ],\n",
       "        [ 0.33333333,  0.33333333,  0.        ,  0.        ,  1.        ]]),\n",
       " 5)"
      ]
     },
     "execution_count": 549,
     "metadata": {},
     "output_type": "execute_result"
    }
   ],
   "source": [
    "C = np.vstack((np.array(v_1).real, np.array(v_1).imag, np.array(v_3).real, np.array(v_3).imag, np.array(v_5))).T\n",
    "C, np.linalg.matrix_rank(C)"
   ]
  },
  {
   "cell_type": "code",
   "execution_count": 550,
   "id": "ab2a96d8",
   "metadata": {},
   "outputs": [
    {
     "name": "stdout",
     "output_type": "stream",
     "text": [
      "[[ 0.9  0.2  0.   0.   0. ]\n",
      " [-0.2  0.9  0.   0.   0. ]\n",
      " [ 0.   0.   0.6  0.1  0. ]\n",
      " [ 0.   0.  -0.1  0.6  0. ]\n",
      " [ 0.   0.   0.   0.   0.3]]\n"
     ]
    }
   ],
   "source": [
    "B_1 = np.array([[lambda_1.real, lambda_1.imag], [-lambda_1.imag, lambda_1.real]])\n",
    "B_2 = np.array([[lambda_3.real, lambda_3.imag, 0], [-lambda_3.imag, lambda_3.real, 0]])\n",
    "B_3 = np.array([lambda_5])\n",
    "\n",
    "B = np.block([[B_1, np.zeros_like(B_2)],\n",
    "                   [np.zeros_like(B_1), B_2]])\n",
    "B = np.vstack((B, np.array([0,0,0,0,lambda_5])))\n",
    "print(B)"
   ]
  },
  {
   "cell_type": "markdown",
   "id": "de6e73cf",
   "metadata": {},
   "source": [
    "Koopman matrix should only have real entries"
   ]
  },
  {
   "cell_type": "code",
   "execution_count": 551,
   "id": "10a43fc6",
   "metadata": {},
   "outputs": [
    {
     "name": "stdout",
     "output_type": "stream",
     "text": [
      "[[ 1.5   0.2  -0.5   0.1  -1.2 ]\n",
      " [ 0.4   0.7  -0.2  -0.   -0.4 ]\n",
      " [ 0.    0.    0.75 -0.05 -0.  ]\n",
      " [ 0.   -0.    0.65  0.45 -0.  ]\n",
      " [ 0.4   0.4  -1.    0.2  -0.1 ]]\n"
     ]
    }
   ],
   "source": [
    "K_transpose_comp = C @ B @ np.linalg.pinv(C, rcond=1e-8)\n",
    "with np.printoptions(precision=4, suppress=True):\n",
    "    print(K_transpose_comp)"
   ]
  },
  {
   "cell_type": "code",
   "execution_count": 552,
   "id": "eec1fff2",
   "metadata": {
    "scrolled": true
   },
   "outputs": [
    {
     "data": {
      "text/plain": [
       "(5, 20.80802704676878)"
      ]
     },
     "execution_count": 552,
     "metadata": {},
     "output_type": "execute_result"
    }
   ],
   "source": [
    "np.linalg.matrix_rank(K_transpose_comp), np.linalg.cond(K_transpose_comp)"
   ]
  },
  {
   "cell_type": "code",
   "execution_count": 553,
   "id": "7a5e88da",
   "metadata": {},
   "outputs": [],
   "source": [
    "eigsolver_c = MatrixEigSolver(K_transpose_comp)"
   ]
  },
  {
   "cell_type": "markdown",
   "id": "ab26a30a",
   "metadata": {},
   "source": [
    "#### run modified power iteration"
   ]
  },
  {
   "cell_type": "code",
   "execution_count": 554,
   "id": "a7ec468e",
   "metadata": {},
   "outputs": [
    {
     "name": "stdout",
     "output_type": "stream",
     "text": [
      "max iter reached in power method 0.0\n",
      "tol achieved in 1 iterations\n"
     ]
    },
    {
     "data": {
      "text/plain": [
       "((0.9000000000043709+0.19999999996474102j),\n",
       " array([-7.39942504e-01-8.96696479e-02j, -4.61899432e-01+9.41867119e-02j,\n",
       "        -6.58502766e-11-1.00852021e-10j, -1.29423959e-10-7.31546288e-11j,\n",
       "        -4.61899432e-01+9.41867121e-02j]))"
      ]
     },
     "execution_count": 554,
     "metadata": {},
     "output_type": "execute_result"
    }
   ],
   "source": [
    "eigvec, eigval = eigsolver_c.power_iteration_complex_eigs(K_transpose_comp)\n",
    "eigval, eigvec"
   ]
  },
  {
   "cell_type": "code",
   "execution_count": 555,
   "id": "8e1390dc",
   "metadata": {},
   "outputs": [
    {
     "data": {
      "text/plain": [
       "8.226326325796593e-11"
      ]
     },
     "execution_count": 555,
     "metadata": {},
     "output_type": "execute_result"
    }
   ],
   "source": [
    "# check if eigen equation satisfied\n",
    "np.linalg.norm(K_transpose_comp@eigvec - eigval*eigvec)"
   ]
  },
  {
   "cell_type": "code",
   "execution_count": 556,
   "id": "d4ebed5a",
   "metadata": {},
   "outputs": [
    {
     "name": "stdout",
     "output_type": "stream",
     "text": [
      "max iter reached in power method 0.0\n",
      "tol achieved in 1 iterations\n"
     ]
    },
    {
     "data": {
      "text/plain": [
       "((0.8999999999265668+0.20000000000246718j),\n",
       " array([-0.37142441-0.18962319j,  0.2805238 -0.09090061j,\n",
       "        -0.70130949+0.22725153j,  0.1402619 -0.04545031j,\n",
       "         0.37142441+0.18962319j]))"
      ]
     },
     "execution_count": 556,
     "metadata": {},
     "output_type": "execute_result"
    }
   ],
   "source": [
    "eigvec, eigval = eigsolver_c.power_iteration_complex_eigs(K_transpose_comp.T)\n",
    "eigval, eigvec"
   ]
  },
  {
   "cell_type": "markdown",
   "id": "0136b5c5",
   "metadata": {},
   "source": [
    "#### run the same method on the matrix with real eigenvalues used earlier"
   ]
  },
  {
   "cell_type": "code",
   "execution_count": 1102,
   "id": "039a7103",
   "metadata": {},
   "outputs": [
    {
     "name": "stdout",
     "output_type": "stream",
     "text": [
      "max iter reached in power method 0.0\n",
      "tol achieved in 2 iterations\n"
     ]
    },
    {
     "data": {
      "text/plain": [
       "((0.9000000000000623+0j),\n",
       " array([ 7.07106781e-01+0.j, -7.07106781e-01+0.j, -4.34246957e-11+0.j,\n",
       "        -2.32096590e-11+0.j,  6.66343491e-11+0.j]))"
      ]
     },
     "execution_count": 1102,
     "metadata": {},
     "output_type": "execute_result"
    }
   ],
   "source": [
    "eigvec, eigval = eigsolver.power_iteration_complex_eigs(K_transpose)\n",
    "eigval, eigvec"
   ]
  },
  {
   "cell_type": "code",
   "execution_count": 1103,
   "id": "74ccb953",
   "metadata": {},
   "outputs": [
    {
     "data": {
      "text/plain": [
       "5.188467955956665e-12"
      ]
     },
     "execution_count": 1103,
     "metadata": {},
     "output_type": "execute_result"
    }
   ],
   "source": [
    "# check if eigen equation satisfied\n",
    "np.linalg.norm(K_transpose@eigvec - eigval*eigvec)"
   ]
  },
  {
   "cell_type": "markdown",
   "id": "12920cfb",
   "metadata": {},
   "source": [
    "#### run the algorithm with deflation"
   ]
  },
  {
   "cell_type": "code",
   "execution_count": 1032,
   "id": "eff46083",
   "metadata": {},
   "outputs": [
    {
     "name": "stdout",
     "output_type": "stream",
     "text": [
      "eigenvalue 1\n",
      "max iter reached in power method 0.0\n",
      "tol achieved in 1 iterations\n",
      "max iter reached in power method 0.0\n",
      "tol achieved in 93 iterations\n",
      "lambda:  (0.8999999999466716+0.20000000000144114j)\n",
      "---------------------------------\n",
      "eigenvalue 2\n",
      "max iter reached in power method 0j\n",
      "tol achieved in 1 iterations\n",
      "max iter reached in power method 0j\n",
      "tol achieved in 1 iterations\n",
      "lambda:  (0.6+0.09999999999999964j)\n",
      "---------------------------------\n",
      "eigenvalue 3\n",
      "tol achieved in 1 iterations\n",
      "tol achieved in 1 iterations\n",
      "lambda:  (0.3+0j)\n",
      "---------------------------------\n"
     ]
    }
   ],
   "source": [
    "eigs, left_eigs = eigsolver_c.power_iteration_with_deflation_asymm_complex(num_eigen=K_transpose_comp.shape[0], \n",
    "                                                 num_iterations=10000, tolerance=1e-10)"
   ]
  },
  {
   "cell_type": "code",
   "execution_count": 657,
   "id": "1f2db10a",
   "metadata": {},
   "outputs": [],
   "source": [
    "def check_complex_vec_equal(x,y):\n",
    "    # equality in cauchy schwarz\n",
    "    return np.allclose(np.abs(x.conj().T @ y), np.linalg.norm(x) * np.linalg.norm(y))"
   ]
  },
  {
   "cell_type": "code",
   "execution_count": 658,
   "id": "61889ccc",
   "metadata": {},
   "outputs": [
    {
     "name": "stdout",
     "output_type": "stream",
     "text": [
      "eigenvalue: ( 0.9+0.2j)\n",
      "eigenvalue error: 8.345e-11\n",
      "eigenvector equal to explicit eigvector: True\n",
      "--------\n",
      "eigenvalue: ( 0.9-0.2j)\n",
      "eigenvalue error: 8.345e-11\n",
      "eigenvector equal to explicit eigvector: True\n",
      "--------\n",
      "eigenvalue: ( 0.6+0.1j)\n",
      "eigenvalue error: 6.621e-16\n",
      "eigenvector equal to explicit eigvector: True\n",
      "--------\n",
      "eigenvalue: ( 0.6-0.1j)\n",
      "eigenvalue error: 6.621e-16\n",
      "eigenvector equal to explicit eigvector: True\n",
      "--------\n",
      "eigenvalue: ( 0.3+0j)\n",
      "eigenvalue error: 5.551e-17\n",
      "eigenvector equal to explicit eigvector: True\n",
      "--------\n"
     ]
    }
   ],
   "source": [
    "with np.printoptions(precision=4, suppress=True):\n",
    "    for i, (eigvec,eigvalue) in enumerate(eigs):\n",
    "        print(f\"eigenvalue: {eigvalue: .4}\")\n",
    "        print(f\"eigenvalue error: {np.abs(eigvalue - eval(f'lambda_{i+1}')):.4}\")\n",
    "        eigvec = eigvec.reshape(eigvec.shape[0])\n",
    "        print(f\"eigenvector equal to explicit eigvector: {check_complex_vec_equal(V[:,i], eigvec)}\")\n",
    "        print(\"--------\")"
   ]
  },
  {
   "cell_type": "markdown",
   "id": "728e0075",
   "metadata": {},
   "source": [
    "#### run with matrix with real eigenvalues"
   ]
  },
  {
   "cell_type": "code",
   "execution_count": 1091,
   "id": "df17dd48",
   "metadata": {},
   "outputs": [
    {
     "name": "stdout",
     "output_type": "stream",
     "text": [
      "eigenvalue 1\n",
      "max iter reached in power method 0.0\n",
      "tol achieved in 2 iterations\n",
      "max iter reached in power method 0.0\n",
      "tol achieved in 2 iterations\n",
      "lambda:  (0.9000000000000425+0j)\n",
      "---------------------------------\n",
      "eigenvalue 2\n",
      "max iter reached in power method 0j\n",
      "tol achieved in 2 iterations\n",
      "max iter reached in power method 0j\n",
      "tol achieved in 2 iterations\n",
      "lambda:  (0.8099999999999992+0j)\n",
      "---------------------------------\n",
      "eigenvalue 3\n",
      "max iter reached in power method 0j\n",
      "tol achieved in 1 iterations\n",
      "max iter reached in power method 0j\n",
      "tol achieved in 1 iterations\n",
      "lambda:  (0.5999999999999998+0j)\n",
      "---------------------------------\n",
      "eigenvalue 4\n",
      "max iter reached in power method 0j\n",
      "tol achieved in 1 iterations\n",
      "max iter reached in power method 0j\n",
      "tol achieved in 1 iterations\n",
      "lambda:  (0.5399999999999998+0j)\n",
      "---------------------------------\n",
      "eigenvalue 5\n",
      "tol achieved in 1 iterations\n",
      "tol achieved in 1 iterations\n",
      "lambda:  (0.35999999999999993+0j)\n",
      "---------------------------------\n"
     ]
    }
   ],
   "source": [
    "eigs, left_eigs = eigsolver.power_iteration_with_deflation_asymm_complex(num_eigen=K_transpose.shape[0], \n",
    "                                                 num_iterations=10000, tolerance=1e-10)"
   ]
  },
  {
   "cell_type": "code",
   "execution_count": 1101,
   "id": "bf7c137c",
   "metadata": {},
   "outputs": [
    {
     "name": "stdout",
     "output_type": "stream",
     "text": [
      "eigenvalue: ( 0.9+0j)\n",
      "eigenvalue and eigenvector are real\n",
      "eigenvalue error: (4.252e-14+0j)\n",
      "eigenvector norm error: 5.95e-11\n",
      "--------\n",
      "eigenvalue: ( 0.81+0j)\n",
      "eigenvalue and eigenvector are real\n",
      "eigenvalue error: (-8.882e-16+0j)\n",
      "eigenvector norm error: 1.614e-11\n",
      "--------\n",
      "eigenvalue: ( 0.6+0j)\n",
      "eigenvalue and eigenvector are real\n",
      "eigenvalue error: (-2.22e-16+0j)\n",
      "eigenvector norm error: 1.934e-10\n",
      "--------\n",
      "eigenvalue: ( 0.54+0j)\n",
      "eigenvalue and eigenvector are real\n",
      "eigenvalue error: (-2.22e-16+0j)\n",
      "eigenvector norm error: 1.262e-10\n",
      "--------\n",
      "eigenvalue: ( 0.36+0j)\n",
      "eigenvalue and eigenvector are real\n",
      "eigenvalue error: (-5.551e-17+0j)\n",
      "eigenvector norm error: 3.67e-16\n",
      "--------\n"
     ]
    }
   ],
   "source": [
    "with np.printoptions(precision=4, suppress=True):\n",
    "    for i, (eigvec,eigvalue) in enumerate(eigs):\n",
    "        print(f\"eigenvalue: {eigvalue: .4}\")\n",
    "        assert np.all(eigvec.imag == 0)\n",
    "        assert np.all(eigvalue.imag ==0)\n",
    "        print(\"eigenvalue and eigenvector are real\")\n",
    "        \n",
    "        print(f\"eigenvalue error: {eigvalue - D[i,i]:.4}\")\n",
    "        eigvec = eigvec.reshape(eigvec.shape[0])\n",
    "        assert np.all(eigvec.imag == 0)\n",
    "        print(f\"eigenvector norm error: {np.linalg.norm(eigvec - V[:,i]):.4}\")\n",
    "        print(\"--------\")"
   ]
  }
 ],
 "metadata": {
  "kernelspec": {
   "display_name": "Python 3 (ipykernel)",
   "language": "python",
   "name": "python3"
  },
  "language_info": {
   "codemirror_mode": {
    "name": "ipython",
    "version": 3
   },
   "file_extension": ".py",
   "mimetype": "text/x-python",
   "name": "python",
   "nbconvert_exporter": "python",
   "pygments_lexer": "ipython3",
   "version": "3.8.16"
  },
  "toc": {
   "base_numbering": 1,
   "nav_menu": {},
   "number_sections": true,
   "sideBar": true,
   "skip_h1_title": false,
   "title_cell": "Table of Contents",
   "title_sidebar": "Contents",
   "toc_cell": false,
   "toc_position": {},
   "toc_section_display": true,
   "toc_window_display": false
  }
 },
 "nbformat": 4,
 "nbformat_minor": 5
}
