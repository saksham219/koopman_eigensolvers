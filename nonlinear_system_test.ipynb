{
 "cells": [
  {
   "cell_type": "code",
   "execution_count": 1,
   "id": "ab67c525",
   "metadata": {},
   "outputs": [],
   "source": [
    "import numpy as np\n",
    "import matplotlib.pyplot as plt\n",
    "import numpy as np\n",
    "import pandas as pd\n",
    "from scipy.integrate import solve_ivp\n",
    "\n",
    "from datafold.appfold import EDMD\n",
    "from datafold.dynfold import DMDFull\n",
    "from datafold.dynfold.transform import TSCPolynomialFeatures, TSCRadialBasis\n",
    "from datafold.pcfold import GaussianKernel, TSCDataFrame\n",
    "import matplotlib.pyplot as plt"
   ]
  },
  {
   "cell_type": "code",
   "execution_count": 2,
   "id": "1cde4cb9",
   "metadata": {},
   "outputs": [],
   "source": [
    "def solve_limit_cycle(initial_conditions, t_eval):\n",
    "    def limit_cycle(t, y):\n",
    "        \"\"\"ODE system.\"\"\"\n",
    "        mu = 1\n",
    "        y_dot = np.zeros(2)\n",
    "\n",
    "        factor = mu - y[0] ** 2 - y[1] ** 2\n",
    "\n",
    "        y_dot[0] = -y[1] + y[0] * factor\n",
    "        y_dot[1] = y[0] + y[1] * factor\n",
    "        return y_dot\n",
    "\n",
    "    assert initial_conditions.ndim == 2\n",
    "    assert initial_conditions.shape[1] == 2\n",
    "\n",
    "    time_series_dfs = []\n",
    "\n",
    "    for ic in initial_conditions:\n",
    "        solution = solve_ivp(\n",
    "            limit_cycle, t_span=(t_eval[0], t_eval[-1]), y0=ic, t_eval=t_eval\n",
    "        )\n",
    "\n",
    "        solution = pd.DataFrame(\n",
    "            data=solution[\"y\"].T,\n",
    "            index=solution[\"t\"],\n",
    "            columns=[\"x1\", \"x2\"],\n",
    "        )\n",
    "\n",
    "        time_series_dfs.append(solution)\n",
    "\n",
    "    return TSCDataFrame.from_frame_list(time_series_dfs)"
   ]
  },
  {
   "cell_type": "code",
   "execution_count": 3,
   "id": "e46c539e",
   "metadata": {},
   "outputs": [
    {
     "name": "stdout",
     "output_type": "stream",
     "text": [
      "time delta: 0.019999999999999993\n",
      "#time series: 64\n",
      "#time steps per time series: 21\n",
      "(n_samples, n_features): (1344, 2)\n",
      "time interval (0.0, 0.4)\n",
      "Same time values: True\n",
      "\n",
      "Data snippet:\n"
     ]
    },
    {
     "data": {
      "text/html": [
       "<div>\n",
       "<style scoped>\n",
       "    .dataframe tbody tr th:only-of-type {\n",
       "        vertical-align: middle;\n",
       "    }\n",
       "\n",
       "    .dataframe tbody tr th {\n",
       "        vertical-align: top;\n",
       "    }\n",
       "\n",
       "    .dataframe thead th {\n",
       "        text-align: right;\n",
       "    }\n",
       "</style>\n",
       "<table border=\"1\" class=\"dataframe\">\n",
       "  <thead>\n",
       "    <tr style=\"text-align: right;\">\n",
       "      <th></th>\n",
       "      <th>feature</th>\n",
       "      <th>x1</th>\n",
       "      <th>x2</th>\n",
       "    </tr>\n",
       "    <tr>\n",
       "      <th>ID</th>\n",
       "      <th>time</th>\n",
       "      <th></th>\n",
       "      <th></th>\n",
       "    </tr>\n",
       "  </thead>\n",
       "  <tbody>\n",
       "    <tr>\n",
       "      <th rowspan=\"5\" valign=\"top\">0</th>\n",
       "      <th>0.00</th>\n",
       "      <td>-2.000000</td>\n",
       "      <td>-2.000000</td>\n",
       "    </tr>\n",
       "    <tr>\n",
       "      <th>0.02</th>\n",
       "      <td>-1.735789</td>\n",
       "      <td>-1.806650</td>\n",
       "    </tr>\n",
       "    <tr>\n",
       "      <th>0.04</th>\n",
       "      <td>-1.547156</td>\n",
       "      <td>-1.676108</td>\n",
       "    </tr>\n",
       "    <tr>\n",
       "      <th>0.06</th>\n",
       "      <td>-1.401879</td>\n",
       "      <td>-1.581086</td>\n",
       "    </tr>\n",
       "    <tr>\n",
       "      <th>0.08</th>\n",
       "      <td>-1.286003</td>\n",
       "      <td>-1.510061</td>\n",
       "    </tr>\n",
       "    <tr>\n",
       "      <th>...</th>\n",
       "      <th>...</th>\n",
       "      <td>...</td>\n",
       "      <td>...</td>\n",
       "    </tr>\n",
       "    <tr>\n",
       "      <th rowspan=\"5\" valign=\"top\">63</th>\n",
       "      <th>0.32</th>\n",
       "      <td>0.612206</td>\n",
       "      <td>1.218410</td>\n",
       "    </tr>\n",
       "    <tr>\n",
       "      <th>0.34</th>\n",
       "      <td>0.578201</td>\n",
       "      <td>1.210363</td>\n",
       "    </tr>\n",
       "    <tr>\n",
       "      <th>0.36</th>\n",
       "      <td>0.545490</td>\n",
       "      <td>1.203096</td>\n",
       "    </tr>\n",
       "    <tr>\n",
       "      <th>0.38</th>\n",
       "      <td>0.513883</td>\n",
       "      <td>1.196435</td>\n",
       "    </tr>\n",
       "    <tr>\n",
       "      <th>0.40</th>\n",
       "      <td>0.483307</td>\n",
       "      <td>1.190350</td>\n",
       "    </tr>\n",
       "  </tbody>\n",
       "</table>\n",
       "<p>1344 rows × 2 columns</p>\n",
       "</div>"
      ],
      "text/plain": [
       "feature        x1        x2\n",
       "ID time                    \n",
       "0  0.00 -2.000000 -2.000000\n",
       "   0.02 -1.735789 -1.806650\n",
       "   0.04 -1.547156 -1.676108\n",
       "   0.06 -1.401879 -1.581086\n",
       "   0.08 -1.286003 -1.510061\n",
       "...           ...       ...\n",
       "63 0.32  0.612206  1.218410\n",
       "   0.34  0.578201  1.210363\n",
       "   0.36  0.545490  1.203096\n",
       "   0.38  0.513883  1.196435\n",
       "   0.40  0.483307  1.190350\n",
       "\n",
       "[1344 rows x 2 columns]"
      ]
     },
     "execution_count": 3,
     "metadata": {},
     "output_type": "execute_result"
    }
   ],
   "source": [
    "nr_time_steps = 30\n",
    "t_eval = np.linspace(0, 0.4, 21)\n",
    "\n",
    "initial_conditions = np.array(\n",
    "    np.meshgrid(np.linspace(-2, 2, 8), np.linspace(-2, 2, 8))\n",
    ").T.reshape(-1, 2)\n",
    "\n",
    "tsc_data = solve_limit_cycle(initial_conditions, t_eval)\n",
    "\n",
    "print(f\"time delta: {tsc_data.delta_time}\")\n",
    "print(f\"#time series: {tsc_data.n_timeseries}\")\n",
    "print(f\"#time steps per time series: {tsc_data.n_timesteps}\")\n",
    "print(f\"(n_samples, n_features): {tsc_data.shape}\")\n",
    "print(f\"time interval {tsc_data.time_interval()}\")\n",
    "print(f\"Same time values: {tsc_data.is_same_time_values()}\")\n",
    "print(\"\")\n",
    "print(\"Data snippet:\")\n",
    "tsc_data"
   ]
  },
  {
   "cell_type": "code",
   "execution_count": 4,
   "id": "25f02eb8",
   "metadata": {},
   "outputs": [],
   "source": [
    "shift_start_transposed, shift_end_transposed = tsc_data.tsc.shift_matrices()"
   ]
  },
  {
   "cell_type": "code",
   "execution_count": 5,
   "id": "80476f9f",
   "metadata": {},
   "outputs": [
    {
     "data": {
      "text/plain": [
       "((2, 1280), (2, 1280))"
      ]
     },
     "execution_count": 5,
     "metadata": {},
     "output_type": "execute_result"
    }
   ],
   "source": [
    "shift_start_transposed.shape, shift_end_transposed.shape"
   ]
  },
  {
   "cell_type": "code",
   "execution_count": 6,
   "id": "415f4057",
   "metadata": {},
   "outputs": [
    {
     "data": {
      "text/plain": [
       "2"
      ]
     },
     "execution_count": 6,
     "metadata": {},
     "output_type": "execute_result"
    }
   ],
   "source": [
    "np.linalg.matrix_rank(shift_start_transposed)"
   ]
  },
  {
   "cell_type": "code",
   "execution_count": 7,
   "id": "f1b35911",
   "metadata": {},
   "outputs": [
    {
     "data": {
      "text/plain": [
       "(1280, 1280)"
      ]
     },
     "execution_count": 7,
     "metadata": {},
     "output_type": "execute_result"
    }
   ],
   "source": [
    "koopman_matrix = np.linalg.pinv(shift_start_transposed) @ shift_end_transposed\n",
    "koopman_matrix.shape"
   ]
  },
  {
   "cell_type": "code",
   "execution_count": 8,
   "id": "9ade6a0e",
   "metadata": {},
   "outputs": [
    {
     "data": {
      "text/plain": [
       "2"
      ]
     },
     "execution_count": 8,
     "metadata": {},
     "output_type": "execute_result"
    }
   ],
   "source": [
    "np.linalg.matrix_rank(koopman_matrix)"
   ]
  },
  {
   "cell_type": "markdown",
   "id": "4daba77c",
   "metadata": {},
   "source": [
    "rank of Koopman matrix is 2 so all but 2 of its eigen values will be 0"
   ]
  },
  {
   "cell_type": "code",
   "execution_count": 9,
   "id": "dacdaa89",
   "metadata": {},
   "outputs": [],
   "source": [
    "eigvalues, eigvectors = np.linalg.eig(koopman_matrix)"
   ]
  },
  {
   "cell_type": "code",
   "execution_count": 10,
   "id": "ef652c8c",
   "metadata": {},
   "outputs": [
    {
     "data": {
      "text/plain": [
       "0.2496451581475623"
      ]
     },
     "execution_count": 10,
     "metadata": {},
     "output_type": "execute_result"
    }
   ],
   "source": [
    "np.linalg.norm(eigvectors[0] - eigvectors[1])"
   ]
  },
  {
   "cell_type": "code",
   "execution_count": 11,
   "id": "15f12148",
   "metadata": {},
   "outputs": [
    {
     "data": {
      "text/plain": [
       "array([ 9.71912250e-01+1.94280097e-02j,  9.71912250e-01-1.94280097e-02j,\n",
       "       -3.16140110e-16+0.00000000e+00j, ...,\n",
       "       -2.39606548e-34-6.00442274e-34j,  1.37312941e-34+2.00977287e-34j,\n",
       "        1.37312941e-34-2.00977287e-34j])"
      ]
     },
     "execution_count": 11,
     "metadata": {},
     "output_type": "execute_result"
    }
   ],
   "source": [
    "eigvalues"
   ]
  },
  {
   "cell_type": "code",
   "execution_count": 12,
   "id": "fc349ef2",
   "metadata": {},
   "outputs": [
    {
     "data": {
      "text/plain": [
       "array([ 9.71912250e-01+1.94280097e-02j,  9.71912250e-01-1.94280097e-02j,\n",
       "       -3.16140110e-16+0.00000000e+00j, ...,\n",
       "       -2.39606548e-34-6.00442274e-34j,  1.37312941e-34+2.00977287e-34j,\n",
       "        1.37312941e-34-2.00977287e-34j])"
      ]
     },
     "execution_count": 12,
     "metadata": {},
     "output_type": "execute_result"
    }
   ],
   "source": [
    "eigvalues"
   ]
  },
  {
   "cell_type": "code",
   "execution_count": 13,
   "id": "24768001",
   "metadata": {
    "scrolled": false
   },
   "outputs": [
    {
     "data": {
      "text/plain": [
       "(0.9719122495784027+0.019428009692233694j)"
      ]
     },
     "execution_count": 13,
     "metadata": {},
     "output_type": "execute_result"
    }
   ],
   "source": [
    "eigvalues[0]"
   ]
  },
  {
   "cell_type": "code",
   "execution_count": 14,
   "id": "38daae81",
   "metadata": {},
   "outputs": [
    {
     "data": {
      "text/plain": [
       "0.19223507188833164"
      ]
     },
     "execution_count": 14,
     "metadata": {},
     "output_type": "execute_result"
    }
   ],
   "source": [
    "np.linalg.norm(koopman_matrix@eigvectors[0] - eigvalues[0]*eigvectors[0])"
   ]
  },
  {
   "cell_type": "code",
   "execution_count": 15,
   "id": "76031b7b",
   "metadata": {},
   "outputs": [
    {
     "data": {
      "image/png": "[encoded data removed]",
      "text/plain": [
       "<Figure size 640x480 with 1 Axes>"
      ]
     },
     "metadata": {},
     "output_type": "display_data"
    }
   ],
   "source": [
    "plt.scatter(eigvalues.real, eigvalues.imag)\n",
    "\n",
    "# Set the axis limits\n",
    "plt.xlim([-1, 1])\n",
    "plt.ylim([-1, 1])\n",
    "\n",
    "# Show the plot\n",
    "plt.show()"
   ]
  },
  {
   "cell_type": "code",
   "execution_count": 16,
   "id": "d48f6c6f",
   "metadata": {},
   "outputs": [
    {
     "data": {
      "text/plain": [
       "array([0.97191225+0.01942801j, 0.97191225-0.01942801j])"
      ]
     },
     "execution_count": 16,
     "metadata": {},
     "output_type": "execute_result"
    }
   ],
   "source": [
    "eigvalues[eigvalues > 0.5]"
   ]
  },
  {
   "cell_type": "code",
   "execution_count": 17,
   "id": "14bdee06",
   "metadata": {},
   "outputs": [
    {
     "data": {
      "text/plain": [
       "array([], dtype=complex128)"
      ]
     },
     "execution_count": 17,
     "metadata": {},
     "output_type": "execute_result"
    }
   ],
   "source": [
    "a = np.real(eigvalues)\n",
    "eigvalues[(a<0.003) & (a>0.002)]"
   ]
  },
  {
   "cell_type": "code",
   "execution_count": 18,
   "id": "113236d1",
   "metadata": {},
   "outputs": [
    {
     "data": {
      "text/plain": [
       "1280"
      ]
     },
     "execution_count": 18,
     "metadata": {},
     "output_type": "execute_result"
    }
   ],
   "source": [
    "np.linalg.matrix_rank(eigvectors)"
   ]
  },
  {
   "cell_type": "markdown",
   "id": "c1e06883",
   "metadata": {},
   "source": [
    "##### qr decomposition returns correct rank of eigen vectors"
   ]
  },
  {
   "cell_type": "code",
   "execution_count": 19,
   "id": "4a0694b3",
   "metadata": {},
   "outputs": [
    {
     "data": {
      "text/plain": [
       "2"
      ]
     },
     "execution_count": 19,
     "metadata": {},
     "output_type": "execute_result"
    }
   ],
   "source": [
    "np.linalg.matrix_rank(np.linalg.qr(koopman_matrix)[1])"
   ]
  },
  {
   "cell_type": "code",
   "execution_count": 20,
   "id": "90699f5f",
   "metadata": {
    "scrolled": true
   },
   "outputs": [
    {
     "data": {
      "text/plain": [
       "array([[-8.04865048e-02,  1.61002251e-03,  8.37901788e-01, ...,\n",
       "         8.08551539e-18,  1.13719656e-17,  1.74122769e-17],\n",
       "       [-7.13081568e-02,  2.21112201e-16,  3.04397598e-01, ...,\n",
       "        -2.82867605e-17, -2.93533943e-17, -3.93995960e-17],\n",
       "       [-6.49092213e-02, -1.29735092e-03, -3.92601377e-02, ...,\n",
       "        -9.41442454e-17, -2.89582102e-17,  5.32826736e-18],\n",
       "       ...,\n",
       "       [ 3.62432592e-02,  1.20002092e-02, -3.19186812e-03, ...,\n",
       "         4.50489818e-16,  5.01099358e-17,  1.12593824e-16],\n",
       "       [ 3.54490741e-02,  1.25282783e-02,  1.50343121e-03, ...,\n",
       "        -1.01047105e-15,  4.63619321e-16,  4.24228783e-16],\n",
       "       [ 3.46891053e-02,  1.30456310e-02,  9.41184442e-03, ...,\n",
       "        -9.17667515e-16,  4.84739973e-17,  4.98952220e-16]])"
      ]
     },
     "execution_count": 20,
     "metadata": {},
     "output_type": "execute_result"
    }
   ],
   "source": [
    "np.linalg.qr(koopman_matrix)[0]"
   ]
  },
  {
   "cell_type": "code",
   "execution_count": 21,
   "id": "88ab2f9d",
   "metadata": {},
   "outputs": [],
   "source": [
    "eigvalues, eigvectors = np.linalg.eig(koopman_matrix)"
   ]
  },
  {
   "cell_type": "code",
   "execution_count": 22,
   "id": "78f7b8c4",
   "metadata": {},
   "outputs": [
    {
     "data": {
      "text/plain": [
       "0.18572128330102655"
      ]
     },
     "execution_count": 22,
     "metadata": {},
     "output_type": "execute_result"
    }
   ],
   "source": [
    "np.linalg.norm(np.dot(koopman_matrix,eigvectors[1]) - eigvalues[1]*eigvectors[1])"
   ]
  },
  {
   "cell_type": "code",
   "execution_count": null,
   "id": "6e86270d",
   "metadata": {},
   "outputs": [],
   "source": []
  },
  {
   "cell_type": "code",
   "execution_count": 23,
   "id": "7b715aef",
   "metadata": {
    "scrolled": true
   },
   "outputs": [
    {
     "data": {
      "text/plain": [
       "<function numpy.linalg.matrix_rank(A, tol=None, hermitian=False)>"
      ]
     },
     "execution_count": 23,
     "metadata": {},
     "output_type": "execute_result"
    }
   ],
   "source": [
    "np.linalg.matrix_rank"
   ]
  },
  {
   "cell_type": "markdown",
   "id": "81b77768",
   "metadata": {},
   "source": [
    "#### using power iteration"
   ]
  },
  {
   "cell_type": "code",
   "execution_count": 49,
   "id": "c3b3ad73",
   "metadata": {},
   "outputs": [],
   "source": [
    "def power_iteration(A, num_iterations):\n",
    "    x = np.random.rand(A.shape[1])\n",
    "    for i in range(num_iterations):\n",
    "        y = np.dot(A, x)\n",
    "        norm = np.linalg.norm(y)\n",
    "        x = y / norm\n",
    "    eigenvalue = np.dot(np.dot(x, A), x.T)\n",
    "    return x, eigenvalue"
   ]
  },
  {
   "cell_type": "code",
   "execution_count": 50,
   "id": "33bfdf23",
   "metadata": {},
   "outputs": [],
   "source": [
    "eigenvec, eigenvalue = power_iteration(koopman_matrix, num_iterations=1000)"
   ]
  },
  {
   "cell_type": "code",
   "execution_count": 51,
   "id": "2769382a",
   "metadata": {},
   "outputs": [
    {
     "data": {
      "text/plain": [
       "0.9719122495783987"
      ]
     },
     "execution_count": 51,
     "metadata": {},
     "output_type": "execute_result"
    }
   ],
   "source": [
    "eigenvalue"
   ]
  },
  {
   "cell_type": "code",
   "execution_count": null,
   "id": "797a41b9",
   "metadata": {},
   "outputs": [],
   "source": []
  },
  {
   "cell_type": "code",
   "execution_count": 52,
   "id": "8dcd4edf",
   "metadata": {},
   "outputs": [
    {
     "data": {
      "text/plain": [
       "array([-0.05669953, -0.04920127, -0.04384707, ...,  0.01632108,\n",
       "        0.01539087,  0.01449203])"
      ]
     },
     "execution_count": 52,
     "metadata": {},
     "output_type": "execute_result"
    }
   ],
   "source": [
    "eigenvec"
   ]
  },
  {
   "cell_type": "markdown",
   "id": "15a02346",
   "metadata": {},
   "source": [
    "\n",
    "\n",
    "### Using DMD"
   ]
  },
  {
   "cell_type": "code",
   "execution_count": 24,
   "id": "1e19bf8b",
   "metadata": {},
   "outputs": [],
   "source": [
    "dmd = DMDFull(is_diagonalize=False).fit(X=tsc_data, store_system_matrix=True)  # must be TSCDataFrame\n",
    "dmd_values = dmd.predict(tsc_data.initial_states(), time_values=None)"
   ]
  },
  {
   "cell_type": "code",
   "execution_count": 25,
   "id": "d9ae832c",
   "metadata": {},
   "outputs": [
    {
     "data": {
      "text/plain": [
       "False"
      ]
     },
     "execution_count": 25,
     "metadata": {},
     "output_type": "execute_result"
    }
   ],
   "source": [
    "dmd.is_diagonalize"
   ]
  },
  {
   "cell_type": "code",
   "execution_count": 26,
   "id": "3c43eb16",
   "metadata": {},
   "outputs": [
    {
     "data": {
      "text/plain": [
       "array([[ 0.97191225, -0.01942801],\n",
       "       [ 0.01942801,  0.97191225]])"
      ]
     },
     "execution_count": 26,
     "metadata": {},
     "output_type": "execute_result"
    }
   ],
   "source": [
    "dmd.koopman_matrix_"
   ]
  },
  {
   "cell_type": "code",
   "execution_count": 27,
   "id": "7d573c1a",
   "metadata": {},
   "outputs": [
    {
     "data": {
      "text/plain": [
       "array([0.97191225+0.01942801j, 0.97191225-0.01942801j])"
      ]
     },
     "execution_count": 27,
     "metadata": {},
     "output_type": "execute_result"
    }
   ],
   "source": [
    "dmd.eigenvalues_"
   ]
  },
  {
   "cell_type": "code",
   "execution_count": 28,
   "id": "f23df11d",
   "metadata": {},
   "outputs": [
    {
     "data": {
      "text/plain": [
       "array([[0.        +0.70710678j, 0.        -0.70710678j],\n",
       "       [0.70710678+0.j        , 0.70710678-0.j        ]])"
      ]
     },
     "execution_count": 28,
     "metadata": {},
     "output_type": "execute_result"
    }
   ],
   "source": [
    "dmd.eigenvectors_right_"
   ]
  },
  {
   "cell_type": "code",
   "execution_count": 29,
   "id": "ac1d2a7f",
   "metadata": {},
   "outputs": [],
   "source": [
    "dmd.eigenvectors_left_"
   ]
  },
  {
   "cell_type": "code",
   "execution_count": 30,
   "id": "db037ed0",
   "metadata": {},
   "outputs": [
    {
     "data": {
      "text/plain": [
       "0.02747535479667293"
      ]
     },
     "execution_count": 30,
     "metadata": {},
     "output_type": "execute_result"
    }
   ],
   "source": [
    "np.linalg.norm(dmd.koopman_matrix_@dmd.eigenvectors_right_[0] - dmd.eigenvalues_[0]*dmd.eigenvectors_right_[0])"
   ]
  },
  {
   "cell_type": "code",
   "execution_count": null,
   "id": "2e4b8bfa",
   "metadata": {},
   "outputs": [],
   "source": []
  }
 ],
 "metadata": {
  "kernelspec": {
   "display_name": "Python 3 (ipykernel)",
   "language": "python",
   "name": "python3"
  },
  "language_info": {
   "codemirror_mode": {
    "name": "ipython",
    "version": 3
   },
   "file_extension": ".py",
   "mimetype": "text/x-python",
   "name": "python",
   "nbconvert_exporter": "python",
   "pygments_lexer": "ipython3",
   "version": "3.8.16"
  }
 },
 "nbformat": 4,
 "nbformat_minor": 5
}
